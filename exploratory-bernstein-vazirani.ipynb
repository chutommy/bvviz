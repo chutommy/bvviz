{
 "cells": [
  {
   "cell_type": "code",
   "execution_count": 1,
   "id": "0524c042",
   "metadata": {},
   "outputs": [],
   "source": [
    "import numpy as np\n",
    "\n",
    "from qiskit import QuantumRegister, ClassicalRegister, QuantumCircuit, Aer, execute, transpile\n",
    "from qiskit.providers.aer import QasmSimulator\n",
    "from qiskit.visualization import plot_histogram, plot_state_city, plot_gate_map\n",
    "import qiskit_aer.noise as noise"
   ]
  },
  {
   "cell_type": "code",
   "execution_count": 2,
   "id": "4925a324",
   "metadata": {},
   "outputs": [],
   "source": [
    "class ClassicalOracle:\n",
    "    def __init__(self, secret: np.array):\n",
    "        self.n = len(secret)\n",
    "        self.count = 0\n",
    "        self.secret = secret\n",
    "\n",
    "    def complexity(self) -> int:\n",
    "        return self.n\n",
    "\n",
    "    def number_of_queries(self) -> int:\n",
    "        return self.count\n",
    "\n",
    "    def query(self, inp: np.array) -> bool:\n",
    "        self.count += 1\n",
    "        product = np.dot(self.secret, inp)\n",
    "        return product % 2\n",
    "\n",
    "\n",
    "def classical_bv_algorithm(oracle: ClassicalOracle) -> np.array:\n",
    "    n = oracle.complexity()\n",
    "    secret = np.zeros(n, dtype=np.byte)\n",
    "\n",
    "    for i in range(n):\n",
    "        inp = np.zeros(n, dtype=np.byte)\n",
    "        inp[i] = 1\n",
    "\n",
    "        if oracle.query(inp):\n",
    "            secret[i] = 1\n",
    "\n",
    "    return secret"
   ]
  },
  {
   "cell_type": "code",
   "execution_count": 3,
   "id": "378e1e05",
   "metadata": {},
   "outputs": [
    {
     "name": "stdout",
     "output_type": "stream",
     "text": [
      "secret string:       [0 0 1 0]\n",
      "classical solution:  [0 0 1 0]\n",
      "match:               True\n",
      "# of queries:        4\n"
     ]
    }
   ],
   "source": [
    "secret_str = list(\"0010\")\n",
    "\n",
    "secret = np.array(secret_str, dtype=np.byte)\n",
    "oracle = ClassicalOracle(secret)\n",
    "\n",
    "solution = classical_bv_algorithm(oracle)\n",
    "\n",
    "print(\"secret string:\".ljust(20, \" \"), secret)\n",
    "print(\"classical solution:\".ljust(20, \" \"), solution)\n",
    "print(\"match:\".ljust(20, \" \"), np.array_equal(solution, secret))\n",
    "print(\"# of queries:\".ljust(20, \" \"), oracle.number_of_queries())"
   ]
  },
  {
   "cell_type": "code",
   "execution_count": 4,
   "id": "02a5c81e",
   "metadata": {},
   "outputs": [
    {
     "data": {
      "text/html": [
       "<pre style=\"word-wrap: normal;white-space: pre;background: #fff0;line-height: 1.1;font-family: &quot;Courier New&quot;,Courier,monospace\">                \n",
       "  query_0: ─────\n",
       "                \n",
       "  query_1: ──■──\n",
       "             │  \n",
       "  query_2: ──┼──\n",
       "             │  \n",
       "  query_3: ──┼──\n",
       "           ┌─┴─┐\n",
       "auxiliary: ┤ X ├\n",
       "           └───┘</pre>"
      ],
      "text/plain": [
       "                \n",
       "  query_0: ─────\n",
       "                \n",
       "  query_1: ──■──\n",
       "             │  \n",
       "  query_2: ──┼──\n",
       "             │  \n",
       "  query_3: ──┼──\n",
       "           ┌─┴─┐\n",
       "auxiliary: ┤ X ├\n",
       "           └───┘"
      ]
     },
     "execution_count": 4,
     "metadata": {},
     "output_type": "execute_result"
    }
   ],
   "source": [
    "n = len(secret)\n",
    "\n",
    "query_reg = QuantumRegister(n, \"query\")\n",
    "auxiliary_reg = QuantumRegister(1, \"auxiliary\")\n",
    "oracle = QuantumCircuit(query_reg, auxiliary_reg, name=\"oracle\")\n",
    "\n",
    "for i in range(n):\n",
    "    if secret[n - i - 1]:\n",
    "        oracle.cx(query_reg[i], auxiliary_reg[0])\n",
    "\n",
    "oracle.draw()"
   ]
  },
  {
   "cell_type": "code",
   "execution_count": 5,
   "id": "5bcdd738",
   "metadata": {},
   "outputs": [
    {
     "data": {
      "text/html": [
       "<pre style=\"word-wrap: normal;white-space: pre;background: #fff0;line-height: 1.1;font-family: &quot;Courier New&quot;,Courier,monospace\">     ┌───┐     ┌─────────┐┌───┐ ░ ┌─┐         \n",
       "q_0: ┤ H ├─────┤0        ├┤ H ├─░─┤M├─────────\n",
       "     ├───┤     │         │├───┤ ░ └╥┘┌─┐      \n",
       "q_1: ┤ H ├─────┤1        ├┤ H ├─░──╫─┤M├──────\n",
       "     ├───┤     │         │├───┤ ░  ║ └╥┘┌─┐   \n",
       "q_2: ┤ H ├─────┤2 oracle ├┤ H ├─░──╫──╫─┤M├───\n",
       "     ├───┤     │         │├───┤ ░  ║  ║ └╥┘┌─┐\n",
       "q_3: ┤ H ├─────┤3        ├┤ H ├─░──╫──╫──╫─┤M├\n",
       "     ├───┤┌───┐│         │└───┘ ░  ║  ║  ║ └╥┘\n",
       "aux: ┤ X ├┤ H ├┤4        ├──────░──╫──╫──╫──╫─\n",
       "     └───┘└───┘└─────────┘      ░  ║  ║  ║  ║ \n",
       "c: 4/══════════════════════════════╩══╩══╩══╩═\n",
       "                                   0  1  2  3 </pre>"
      ],
      "text/plain": [
       "     ┌───┐     ┌─────────┐┌───┐ ░ ┌─┐         \n",
       "q_0: ┤ H ├─────┤0        ├┤ H ├─░─┤M├─────────\n",
       "     ├───┤     │         │├───┤ ░ └╥┘┌─┐      \n",
       "q_1: ┤ H ├─────┤1        ├┤ H ├─░──╫─┤M├──────\n",
       "     ├───┤     │         │├───┤ ░  ║ └╥┘┌─┐   \n",
       "q_2: ┤ H ├─────┤2 oracle ├┤ H ├─░──╫──╫─┤M├───\n",
       "     ├───┤     │         │├───┤ ░  ║  ║ └╥┘┌─┐\n",
       "q_3: ┤ H ├─────┤3        ├┤ H ├─░──╫──╫──╫─┤M├\n",
       "     ├───┤┌───┐│         │└───┘ ░  ║  ║  ║ └╥┘\n",
       "aux: ┤ X ├┤ H ├┤4        ├──────░──╫──╫──╫──╫─\n",
       "     └───┘└───┘└─────────┘      ░  ║  ║  ║  ║ \n",
       "c: 4/══════════════════════════════╩══╩══╩══╩═\n",
       "                                   0  1  2  3 "
      ]
     },
     "execution_count": 5,
     "metadata": {},
     "output_type": "execute_result"
    }
   ],
   "source": [
    "qr = QuantumRegister(n, \"q\")\n",
    "cr = ClassicalRegister(n, \"c\")\n",
    "aux = QuantumRegister(1, \"aux\")\n",
    "qc = QuantumCircuit(qr, aux, cr)\n",
    "\n",
    "qc.h(qr)\n",
    "qc.x(aux)\n",
    "qc.h(aux)\n",
    "\n",
    "qc.append(oracle, [*qr, aux])\n",
    "\n",
    "qc.h(qr)\n",
    "qc.barrier()\n",
    "\n",
    "qc.measure(qr, cr)\n",
    "\n",
    "qc.draw()"
   ]
  },
  {
   "cell_type": "code",
   "execution_count": 6,
   "id": "e85c9148",
   "metadata": {},
   "outputs": [],
   "source": [
    "job = execute(qc, Aer.get_backend(\"qasm_simulator\"), shots=1000)\n",
    "counts = job.result().get_counts()"
   ]
  },
  {
   "cell_type": "code",
   "execution_count": 7,
   "id": "86bb586a",
   "metadata": {},
   "outputs": [
    {
     "data": {
      "image/png": "[encoded data removed]",
      "text/plain": [
       "<Figure size 700x500 with 1 Axes>"
      ]
     },
     "execution_count": 7,
     "metadata": {},
     "output_type": "execute_result"
    }
   ],
   "source": [
    "plot_histogram(counts)"
   ]
  },
  {
   "cell_type": "code",
   "execution_count": 8,
   "id": "7336296e",
   "metadata": {},
   "outputs": [
    {
     "data": {
      "image/png": "[encoded data removed]",
      "text/plain": [
       "<Figure size 700x500 with 1 Axes>"
      ]
     },
     "execution_count": 8,
     "metadata": {},
     "output_type": "execute_result"
    }
   ],
   "source": [
    "# Error probabilities\n",
    "prob_1 = 0.3  # 1-qubit gate\n",
    "prob_2 = 0.3  # 2-qubit gate\n",
    "\n",
    "# Depolarizing quantum errors\n",
    "error_1 = noise.depolarizing_error(prob_1, 1)\n",
    "error_2 = noise.depolarizing_error(prob_2, 2)\n",
    "\n",
    "# Add errors to noise model\n",
    "noise_model = noise.NoiseModel()\n",
    "noise_model.add_all_qubit_quantum_error(error_1, [\"h\", \"z\", \"x\"])\n",
    "noise_model.add_all_qubit_quantum_error(error_2, [\"cx\"])\n",
    "\n",
    "# Get basis gates from noise model\n",
    "basis_gates = noise_model.basis_gates\n",
    "\n",
    "# transpiled_qc = transpile(qc, qasm_simulator)\n",
    "# Execute circuit and show results\n",
    "ex = execute(\n",
    "    qc,\n",
    "    Aer.get_backend(\"qasm_simulator\"),\n",
    "    basis_gates=basis_gates,\n",
    "    noise_model=noise_model,\n",
    ")\n",
    "counts = ex.result().get_counts(qc)\n",
    "\n",
    "plot_histogram(counts)"
   ]
  },
  {
   "cell_type": "code",
   "execution_count": 9,
   "id": "482a759d",
   "metadata": {},
   "outputs": [],
   "source": [
    "d1 = dict(list(counts.items()))\n",
    "d2 = {\"\".join(secret_str) : counts[\"\".join(secret_str)]}"
   ]
  },
  {
   "cell_type": "code",
   "execution_count": 10,
   "id": "893e0bf6",
   "metadata": {},
   "outputs": [
    {
     "data": {
      "image/png": "[encoded data removed]",
      "text/plain": [
       "<Figure size 700x500 with 1 Axes>"
      ]
     },
     "execution_count": 10,
     "metadata": {},
     "output_type": "execute_result"
    }
   ],
   "source": [
    "plot_histogram([d1, d2], color=['lightblue','crimson'])"
   ]
  },
  {
   "cell_type": "code",
   "execution_count": 11,
   "id": "bdf6dbee",
   "metadata": {},
   "outputs": [
    {
     "name": "stdout",
     "output_type": "stream",
     "text": [
      "\n",
      "Total count for 00 and 11 are: {'0010': 1000}\n"
     ]
    }
   ],
   "source": [
    "simulator = QasmSimulator()\n",
    "compiled_circuit = transpile(qc, simulator)\n",
    "job = simulator.run(compiled_circuit, shots=1000)\n",
    "result = job.result()\n",
    "counts = result.get_counts(qc)\n",
    "print(\"\\nTotal count for 00 and 11 are:\",counts)"
   ]
  },
  {
   "cell_type": "code",
   "execution_count": 16,
   "id": "88ef205a",
   "metadata": {},
   "outputs": [],
   "source": [
    "# !pip install qiskit-ibm-runtime\n",
    "\n",
    "# from qiskit_ibm_runtime import QiskitRuntimeService\n",
    "\n",
    "# QiskitRuntimeService.save_account(channel=\"ibm_quantum\", token=\"...\")\n",
    "# service = QiskitRuntimeService()"
   ]
  },
  {
   "cell_type": "code",
   "execution_count": 20,
   "id": "f6efa80a",
   "metadata": {
    "scrolled": true
   },
   "outputs": [
    {
     "name": "stderr",
     "output_type": "stream",
     "text": [
      "C:\\Users\\tommy\\AppData\\Local\\Temp\\ipykernel_13180\\3327159617.py:4: DeprecationWarning: The qiskit.IBMQ entrypoint and the qiskit-ibmq-provider package (accessible from 'qiskit.providers.ibmq`) are deprecated and will be removed in a future release. Instead you should use the qiskit-ibm-provider package which is accessible from 'qiskit_ibm_provider'. You can install it with 'pip install qiskit_ibm_provider'. Just replace 'qiskit.IBMQ' with 'qiskit_ibm_provider.IBMProvider'\n",
      "  service = IBMQ.enable_account(\"1ed31c5c3b0d85cbb89654c68fffaf03428c9dc976e8fc39e5f13a373d867ff8597bdda8eb98b4e9450bf7c9f6b116c4367e3b9803a56c268f43400c7cbc37c8\")\n"
     ]
    },
    {
     "name": "stdout",
     "output_type": "stream",
     "text": [
      "[<IBMQSimulator('ibmq_qasm_simulator') from IBMQ(hub='ibm-q', group='open', project='main')>, <IBMQBackend('ibmq_lima') from IBMQ(hub='ibm-q', group='open', project='main')>, <IBMQBackend('ibmq_belem') from IBMQ(hub='ibm-q', group='open', project='main')>, <IBMQBackend('ibmq_quito') from IBMQ(hub='ibm-q', group='open', project='main')>, <IBMQSimulator('simulator_statevector') from IBMQ(hub='ibm-q', group='open', project='main')>, <IBMQSimulator('simulator_mps') from IBMQ(hub='ibm-q', group='open', project='main')>, <IBMQSimulator('simulator_extended_stabilizer') from IBMQ(hub='ibm-q', group='open', project='main')>, <IBMQSimulator('simulator_stabilizer') from IBMQ(hub='ibm-q', group='open', project='main')>, <IBMQBackend('ibmq_jakarta') from IBMQ(hub='ibm-q', group='open', project='main')>, <IBMQBackend('ibmq_manila') from IBMQ(hub='ibm-q', group='open', project='main')>, <IBMQBackend('ibm_lagos') from IBMQ(hub='ibm-q', group='open', project='main')>, <IBMQBackend('ibm_nairobi') from IBMQ(hub='ibm-q', group='open', project='main')>, <IBMQBackend('ibm_perth') from IBMQ(hub='ibm-q', group='open', project='main')>, <IBMQBackend('ibm_oslo') from IBMQ(hub='ibm-q', group='open', project='main')>]\n",
      "least busy backend:  ibmq_belem\n"
     ]
    }
   ],
   "source": [
    "from qiskit import IBMQ, Aer\n",
    "from qiskit.providers.ibmq import least_busy\n",
    "\n",
    "# service = IBMQ.enable_account(\"...\")\n",
    "print(service.backends())\n",
    "backend = least_busy(service.backends(filters=lambda x: x.configuration().n_qubits >= (n+1) and\n",
    "                                   not x.configuration().simulator and x.status().operational==True))\n",
    "print(\"least busy backend: \", backend)"
   ]
  },
  {
   "cell_type": "code",
   "execution_count": null,
   "id": "df70bac9",
   "metadata": {},
   "outputs": [
    {
     "name": "stdout",
     "output_type": "stream",
     "text": [
      "Job Status: job is queued (10)    "
     ]
    }
   ],
   "source": [
    "transpiled_bv_circuit = transpile(qc, backend)\n",
    "\n",
    "shots = 1024\n",
    "job = backend.run(transpiled_bv_circuit, shots=shots)\n",
    "\n",
    "from qiskit.tools.monitor import job_monitor\n",
    "job_monitor(job, interval=2)"
   ]
  },
  {
   "cell_type": "code",
   "execution_count": null,
   "id": "5f409145",
   "metadata": {},
   "outputs": [],
   "source": [
    "results = job.result()\n",
    "answer = results.get_counts()\n",
    "\n",
    "plot_histogram(answer)"
   ]
  },
  {
   "cell_type": "code",
   "execution_count": null,
   "id": "86a933aa",
   "metadata": {},
   "outputs": [],
   "source": [
    "from qiskit.visualization import plot_error_map, plot_circuit_layout, plot_gate_map\n",
    "\n",
    "display(plot_error_map(backend))\n",
    "display(plot_circuit_layout(qc, backend))\n",
    "display(plot_gate_map(backend))"
   ]
  },
  {
   "cell_type": "code",
   "execution_count": null,
   "id": "954f14c1",
   "metadata": {},
   "outputs": [],
   "source": []
  }
 ],
 "metadata": {
  "kernelspec": {
   "display_name": "Python 3 (ipykernel)",
   "language": "python",
   "name": "python3"
  },
  "language_info": {
   "codemirror_mode": {
    "name": "ipython",
    "version": 3
   },
   "file_extension": ".py",
   "mimetype": "text/x-python",
   "name": "python",
   "nbconvert_exporter": "python",
   "pygments_lexer": "ipython3",
   "version": "3.9.16"
  }
 },
 "nbformat": 4,
 "nbformat_minor": 5
}
