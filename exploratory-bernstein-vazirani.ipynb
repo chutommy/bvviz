{
 "cells": [
  {
   "cell_type": "code",
   "execution_count": 15,
   "id": "0524c042",
   "metadata": {},
   "outputs": [],
   "source": [
    "import numpy as np\n",
    "\n",
    "from qiskit import QuantumRegister, ClassicalRegister, QuantumCircuit"
   ]
  },
  {
   "cell_type": "code",
   "execution_count": 16,
   "id": "4925a324",
   "metadata": {},
   "outputs": [],
   "source": [
    "class ClassicalOracle:\n",
    "\n",
    "    def __init__(self, secret: np.array):\n",
    "        self.n = len(secret)\n",
    "        self.count = 0\n",
    "        self.secret = secret\n",
    "\n",
    "    def complexity(self) -> int:\n",
    "        return self.n\n",
    "\n",
    "    def number_of_queries(self) -> int:\n",
    "        return self.count\n",
    "\n",
    "    def query(self, inp: np.array) -> bool:\n",
    "        self.count += 1\n",
    "        product = np.dot(self.secret, inp)\n",
    "        return product % 2\n",
    "\n",
    "\n",
    "def classical_bv_algorithm(oracle: ClassicalOracle) -> np.array:\n",
    "    n = oracle.complexity()\n",
    "    secret = np.zeros(n, dtype=np.byte)\n",
    "\n",
    "    for i in range(n):\n",
    "        inp = np.zeros(n, dtype=np.byte)\n",
    "        inp[i] = 1\n",
    "\n",
    "        if oracle.query(inp):\n",
    "            secret[i] = 1\n",
    "\n",
    "    return secret"
   ]
  },
  {
   "cell_type": "code",
   "execution_count": 17,
   "id": "378e1e05",
   "metadata": {},
   "outputs": [
    {
     "name": "stdout",
     "output_type": "stream",
     "text": [
      "secret string:       [0 1 0 1 1 0]\n",
      "classical solution:  [0 1 0 1 1 0]\n",
      "match:               True\n",
      "# of queries:        6\n"
     ]
    }
   ],
   "source": [
    "secret = list(\"010110\")\n",
    "\n",
    "secret_string = np.array(secret, dtype=np.byte)\n",
    "oracle = ClassicalOracle(secret_string)\n",
    "\n",
    "solution = classical_bv_algorithm(oracle)\n",
    "\n",
    "print(\"secret string:\".ljust(20, \" \"), secret_string)\n",
    "print(\"classical solution:\".ljust(20, \" \"), solution)\n",
    "print(\"match:\".ljust(20, \" \"), np.array_equal(solution, secret_string))\n",
    "print(\"# of queries:\".ljust(20, \" \"), oracle.number_of_queries())"
   ]
  },
  {
   "cell_type": "code",
   "execution_count": 39,
   "id": "02a5c81e",
   "metadata": {},
   "outputs": [],
   "source": [
    "class QuantumOracle:\n",
    "\n",
    "    def __init__(self, secret: np.array):\n",
    "        self.n = len(secret)\n",
    "        self.count = 0\n",
    "        self.secret = secret\n",
    "        \n",
    "    \n",
    "    def circuit(self) -> QuantumCircuit:\n",
    "        query_reg = QuantumRegister(self.n, \"query\")\n",
    "        auxiliary_reg = QuantumRegister(1, \"auxiliary\")\n",
    "        \n",
    "        circuit = QuantumCircuit(query_reg, auxiliary_reg, name=\"oracle\")\n",
    "        \n",
    "        for i in range(self.n):\n",
    "            if self.secret[self.n - i - 1]:\n",
    "                circuit.cx(query_reg[i], auxiliary_reg[0])\n",
    "        \n",
    "        return circuit\n",
    "\n",
    "    def complexity(self) -> int:\n",
    "        return self.n\n",
    "\n",
    "    def number_of_queries(self) -> int:\n",
    "        return self.count\n",
    "\n",
    "    def query(self, inp: np.array) -> bool:\n",
    "        self.count += 1\n",
    "        product = np.dot(self.secret, inp)\n",
    "        return product % 2"
   ]
  },
  {
   "cell_type": "code",
   "execution_count": 47,
   "id": "752d2b2f",
   "metadata": {},
   "outputs": [
    {
     "data": {
      "image/png": "[encoded data removed]",
      "text/plain": [
       "<Figure size 287.496x953.167 with 1 Axes>"
      ]
     },
     "execution_count": 47,
     "metadata": {},
     "output_type": "execute_result"
    }
   ],
   "source": [
    "q_oracle = QuantumOracle(secret_string)\n",
    "oracle = q_oracle.circuit()\n",
    "\n",
    "qc = QuantumCircuit(10, 10)\n",
    "qc.append(oracle, [0,1,2,3,5,6, 7])\n",
    "qc.draw(output=\"mpl\")"
   ]
  },
  {
   "cell_type": "code",
   "execution_count": null,
   "id": "5bcdd738",
   "metadata": {},
   "outputs": [],
   "source": []
  }
 ],
 "metadata": {
  "kernelspec": {
   "display_name": "Python 3 (ipykernel)",
   "language": "python",
   "name": "python3"
  },
  "language_info": {
   "codemirror_mode": {
    "name": "ipython",
    "version": 3
   },
   "file_extension": ".py",
   "mimetype": "text/x-python",
   "name": "python",
   "nbconvert_exporter": "python",
   "pygments_lexer": "ipython3",
   "version": "3.11.0"
  }
 },
 "nbformat": 4,
 "nbformat_minor": 5
}
