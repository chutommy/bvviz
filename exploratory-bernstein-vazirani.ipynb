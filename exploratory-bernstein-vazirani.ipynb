{
 "cells": [
  {
   "cell_type": "code",
   "execution_count": 116,
   "id": "0524c042",
   "metadata": {},
   "outputs": [],
   "source": [
    "import numpy as np"
   ]
  },
  {
   "cell_type": "code",
   "execution_count": 117,
   "id": "4925a324",
   "metadata": {},
   "outputs": [],
   "source": [
    "class ClassicalOracle:\n",
    "    secret = \"\"\n",
    "    n = 0\n",
    "    count = 0\n",
    "\n",
    "    def __init__(self, secret: np.array):\n",
    "        self.secret = secret\n",
    "        self.n = len(secret)\n",
    "        self.count = 0\n",
    "\n",
    "    def complexity(self) -> int:\n",
    "        return self.n\n",
    "\n",
    "    def number_of_queries(self) -> int:\n",
    "        return self.count\n",
    "\n",
    "    def query(self, inp: np.array) -> bool:\n",
    "        self.count += 1\n",
    "        product = np.dot(self.secret, inp)\n",
    "        return product % 2\n",
    "\n",
    "\n",
    "def classical_bv_algorithm(oracle: ClassicalOracle) -> np.array:\n",
    "    n = oracle.complexity()\n",
    "    secret = np.zeros(n, dtype=np.byte)\n",
    "\n",
    "    for i in range(n):\n",
    "        inp = np.zeros(n, dtype=np.byte)\n",
    "        inp[i] = 1\n",
    "\n",
    "        if oracle.query(inp):\n",
    "            secret[i] = 1\n",
    "\n",
    "    return secret"
   ]
  },
  {
   "cell_type": "code",
   "execution_count": 118,
   "id": "378e1e05",
   "metadata": {},
   "outputs": [
    {
     "name": "stdout",
     "output_type": "stream",
     "text": [
      "secret string:       [0 1 0 1 0 1 1 1 0 1 1]\n",
      "classical solution:  [0 1 0 1 0 1 1 1 0 1 1]\n",
      "match:               True\n",
      "# of queries:        11\n"
     ]
    }
   ],
   "source": [
    "secret_string = np.array([0, 1, 0, 1, 0, 1, 1, 1, 0, 1, 1], dtype=np.byte)\n",
    "oracle = ClassicalOracle(secret_string)\n",
    "\n",
    "solution = classical_bv_algorithm(oracle)\n",
    "\n",
    "print(\"secret string:\".ljust(20, \" \"), secret_string)\n",
    "print(\"classical solution:\".ljust(20, \" \"), solution)\n",
    "print(\"match:\".ljust(20, \" \"), np.array_equal(solution, secret_string))\n",
    "print(\"# of queries:\".ljust(20, \" \"), oracle.number_of_queries())"
   ]
  },
  {
   "cell_type": "code",
   "execution_count": null,
   "id": "02a5c81e",
   "metadata": {},
   "outputs": [],
   "source": []
  }
 ],
 "metadata": {
  "kernelspec": {
   "display_name": "Python 3 (ipykernel)",
   "language": "python",
   "name": "python3"
  },
  "language_info": {
   "codemirror_mode": {
    "name": "ipython",
    "version": 3
   },
   "file_extension": ".py",
   "mimetype": "text/x-python",
   "name": "python",
   "nbconvert_exporter": "python",
   "pygments_lexer": "ipython3",
   "version": "3.11.0"
  }
 },
 "nbformat": 4,
 "nbformat_minor": 5
}
