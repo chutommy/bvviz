{
 "cells": [
  {
   "cell_type": "markdown",
   "id": "3812ea66",
   "metadata": {},
   "source": [
    "# Classical backtracking algorithm"
   ]
  },
  {
   "cell_type": "code",
   "execution_count": null,
   "outputs": [],
   "source": [
    "import numpy as np\n",
    "from math import sqrt, acos\n",
    "\n",
    "from qiskit import QuantumRegister, ClassicalRegister, QuantumCircuit, Aer, execute\n",
    "from qiskit.circuit.quantumregister import Qubit\n",
    "from qiskit.visualization import plot_histogram, plot_bloch_multivector"
   ],
   "metadata": {
    "collapsed": false
   }
  },
  {
   "cell_type": "code",
   "execution_count": null,
   "id": "6e8f289b",
   "metadata": {},
   "outputs": [],
   "source": [
    "def in_row(grid: np.ndarray, row: int, val: int) -> bool:\n",
    "    \"\"\"Check whether val is in the row of the grid.\"\"\"\n",
    "    grid_size = len(grid)\n",
    "\n",
    "    for i in range(grid_size):\n",
    "        if grid[row, i] == val:\n",
    "            return True\n",
    "\n",
    "    return False\n",
    "\n",
    "\n",
    "def in_column(grid: np.ndarray, column: int, val: int) -> bool:\n",
    "    \"\"\"Check whether val is in the column of the grid.\"\"\"\n",
    "    grid_size = len(grid)\n",
    "\n",
    "    for i in range(grid_size):\n",
    "        if grid[i, column] == val:\n",
    "            return True\n",
    "\n",
    "    return False\n",
    "\n",
    "\n",
    "def in_box(grid: np.ndarray, row: int, column: int, val: int) -> bool:\n",
    "    \"\"\"Check whether val is in the inner box of the grid.\"\"\"\n",
    "    grid_size = len(grid)\n",
    "    box_size = round(sqrt(grid_size))\n",
    "\n",
    "    # calculate the upper-left corner of the inner box\n",
    "    row_0 = (row // box_size) * box_size\n",
    "    column_0 = (column // box_size) * box_size\n",
    "\n",
    "    for r in range(box_size):\n",
    "        for c in range(box_size):\n",
    "            if grid[row_0 + r, column_0 + c] == val:\n",
    "                return True\n",
    "\n",
    "    return False\n",
    "\n",
    "\n",
    "def is_distinct(grid: np.ndarray, row: int, column: int, val: int) -> bool:\n",
    "    \"\"\"Verify if the val in the given row/column is distinct.\"\"\"\n",
    "    return (\n",
    "            not in_row(grid, row, val)\n",
    "            and not in_column(grid, column, val)\n",
    "            and not in_box(grid, row, column, val)\n",
    "    )\n",
    "\n",
    "\n",
    "def solve_sudoku_backtracking(grid: np.ndarray, solutions: [] = None):\n",
    "    \"\"\"Fill solutions with grids that satisfy Sudoku rules.\"\"\"\n",
    "    if solutions is None:\n",
    "        solutions = []\n",
    "    grid_size = len(grid[0])\n",
    "\n",
    "    for r in range(grid_size):\n",
    "        for c in range(grid_size):\n",
    "            if grid[r, c] == -1:\n",
    "                for val in range(grid_size):\n",
    "                    if is_distinct(grid, r, c, val):\n",
    "                        grid[r, c] = val\n",
    "                        solve_sudoku_backtracking(grid, solutions)\n",
    "                        grid[r, c] = -1\n",
    "                return\n",
    "\n",
    "    solutions.append(grid.copy())"
   ]
  },
  {
   "cell_type": "markdown",
   "id": "feab5ea7",
   "metadata": {},
   "source": [
    "## Run"
   ]
  },
  {
   "cell_type": "code",
   "execution_count": null,
   "id": "9d5b0c6b",
   "metadata": {},
   "outputs": [],
   "source": [
    "sudoku = np.array(\n",
    "    [[-1, -1, -1, -1],\n",
    "     [-1, -1, -1, -1],\n",
    "     [-1, -1, -1, -1],\n",
    "     [-1, -1, -1, -1]]\n",
    ")\n",
    "\n",
    "my_solutions = []\n",
    "solve_sudoku_backtracking(sudoku, my_solutions)\n",
    "\n",
    "print(sudoku)\n",
    "print(f\"Number of solutions: {len(my_solutions)}\")\n",
    "# for i in range(len(my_solutions)):\n",
    "#     print(f\"Solution #{i}\")\n",
    "#     print(my_solutions[i], \"\\n\")"
   ]
  },
  {
   "cell_type": "markdown",
   "id": "bc2985a7",
   "metadata": {},
   "source": [
    "# Quantum algorithm"
   ]
  },
  {
   "cell_type": "markdown",
   "id": "d74194f6",
   "metadata": {},
   "source": [
    "## Simulation setup"
   ]
  },
  {
   "cell_type": "code",
   "execution_count": null,
   "id": "7cbb1832",
   "metadata": {},
   "outputs": [],
   "source": [
    "def new_circuit(quantum_bits: int, classical_bits: int) -> (QuantumRegister, ClassicalRegister, QuantumCircuit):\n",
    "    \"\"\"Create a new quantum circuit with given quantum volume.\"\"\"\n",
    "    qr = QuantumRegister(quantum_bits, \"qreg\")\n",
    "    cr = ClassicalRegister(classical_bits, \"creg\")\n",
    "    qc = QuantumCircuit(qr, cr)\n",
    "\n",
    "    # set qubits to zero state\n",
    "    for qubit in qr:\n",
    "        qc.initialize('0', qubit)\n",
    "\n",
    "    return qr, cr, qc\n",
    "\n",
    "\n",
    "def simulate(qc: QuantumCircuit, shots: int = 1000, show_bloch: bool = False, title: str = None):\n",
    "    \"\"\"Draw the circuit, simulate a state vector and run simulations.\"\"\"\n",
    "    # simulate state vector\n",
    "    statevector_backend = Aer.get_backend(\"statevector_simulator\")\n",
    "    statevector_job = execute(qc, backend=statevector_backend)\n",
    "    statevector = statevector_job.result().get_statevector()\n",
    "\n",
    "    # run simulations\n",
    "    sim_backend = Aer.get_backend(\"qasm_simulator\")\n",
    "    sim_job = execute(qc, backend=sim_backend, shots=shots)\n",
    "    counts = sim_job.result().get_counts()\n",
    "\n",
    "    # display figures\n",
    "    display(qc.draw(output=\"mpl\"))\n",
    "    # if show_bloch:\n",
    "    #     display(plot_bloch_multivector(statevector, figsize=(0.3, 0.3)))\n",
    "\n",
    "    # display(plot_histogram(counts, figsize=(6, 4), title=title))\n",
    "    print(counts)"
   ]
  },
  {
   "cell_type": "markdown",
   "id": "542901e8",
   "metadata": {},
   "source": [
    "## Superposition setup"
   ]
  },
  {
   "cell_type": "code",
   "execution_count": null,
   "outputs": [],
   "source": [
    "def uno_superposition(qc: QuantumCircuit, q1: Qubit, q0: Qubit, value: int):\n",
    "    \"\"\"Encode given quantum state into the single value.\"\"\"\n",
    "    if value == 1:\n",
    "        qc.x(q0)\n",
    "\n",
    "    elif value == 2:\n",
    "        qc.x(q1)\n",
    "\n",
    "    elif value == 3:\n",
    "        qc.x(q0)\n",
    "        qc.x(q1)\n",
    "\n",
    "\n",
    "def duo_superposition(qc: QuantumCircuit, q1: Qubit, q0: Qubit, value1: int, value2: int):\n",
    "    \"\"\"Encode given quantum state into the equal superposition of two values.\"\"\"\n",
    "    # swap to ensure value1 <= value2\n",
    "    if value1 > value2:\n",
    "        value1, value2 = value2, value1\n",
    "\n",
    "    if (value1, value2) == (0, 1):\n",
    "        qc.h(q0)\n",
    "\n",
    "    elif (value1, value2) == (0, 2):\n",
    "        qc.h(q1)\n",
    "\n",
    "    elif (value1, value2) == (0, 3):\n",
    "        qc.h(q0)\n",
    "        qc.cx(q0, q1)\n",
    "\n",
    "    elif (value1, value2) == (1, 2):\n",
    "        qc.h(q0)\n",
    "        qc.x(q1)\n",
    "        qc.cx(q0, q1)\n",
    "\n",
    "    elif (value1, value2) == (1, 3):\n",
    "        qc.x(q0)\n",
    "        qc.h(q1)\n",
    "\n",
    "    elif (value1, value2) == (2, 3):\n",
    "        qc.h(q0)\n",
    "        qc.x(q1)\n",
    "\n",
    "\n",
    "def trio_superposition(qc: QuantumCircuit, q1: Qubit, q0: Qubit,\n",
    "                       value1: int, value2: int, value3: int):\n",
    "    \"\"\"Encode given quantum state into the equal superposition of three values.\"\"\"\n",
    "    values = [value1, value2, value3]\n",
    "\n",
    "    # angle of rotation to achieve state [1/sqrt(3), sqrt(2)/sqrt(3)]\n",
    "    theta_half = acos(1 / sqrt(3))\n",
    "    theta = 2 * theta_half  # bloch sphere operation\n",
    "\n",
    "    # 1, 2, 3\n",
    "    if 0 not in values:\n",
    "        qc.x(q0)\n",
    "        qc.ry(theta, q1)\n",
    "        qc.ch(q1, q0)\n",
    "\n",
    "    # 0, 2, 3\n",
    "    elif 1 not in values:\n",
    "        qc.ry(theta, q1)\n",
    "        qc.ch(q1, q0)\n",
    "\n",
    "    # 0, 1, 3\n",
    "    elif 2 not in values:\n",
    "        qc.ry(theta, q0)\n",
    "        qc.ch(q0, q1)\n",
    "\n",
    "    # 0, 1, 2\n",
    "    # elif 3 not in values:\n",
    "    else:\n",
    "        qc.ry(theta, q0)\n",
    "        qc.ch(q0, q1)\n",
    "        qc.x(q0)\n",
    "\n",
    "\n",
    "def full_superposition(qc: QuantumCircuit, q1: Qubit, q0: Qubit):\n",
    "    \"\"\"Encode given quantum state into full superposition of all states.\"\"\"\n",
    "    qc.h(q0)\n",
    "    qc.h(q1)\n",
    "\n",
    "\n",
    "def create_superposition(qc: QuantumCircuit, q1: Qubit, q0: Qubit, init_values: []):\n",
    "    \"\"\"Introduce the given qubits into the equal superpositions of initial values.\"\"\"\n",
    "    size = len(init_values)\n",
    "    if size == 1:\n",
    "        uno_superposition(qc, q1, q0, init_values[0])\n",
    "\n",
    "    elif size == 2:\n",
    "        duo_superposition(qc, q1, q0, init_values[0], init_values[1])\n",
    "\n",
    "    elif size == 3:\n",
    "        trio_superposition(qc, q1, q0, init_values[0], init_values[1], init_values[2])\n",
    "\n",
    "    # elif size == 4:\n",
    "    else:\n",
    "        full_superposition(qc, q1, q0)\n",
    "\n",
    "\n",
    "def initialize_candidates(qc: QuantumCircuit, ):\n",
    "    pass"
   ],
   "metadata": {
    "collapsed": false
   }
  },
  {
   "cell_type": "markdown",
   "source": [
    "### One state"
   ],
   "metadata": {
    "collapsed": false
   }
  },
  {
   "cell_type": "code",
   "execution_count": null,
   "id": "49005b65",
   "metadata": {
    "scrolled": false
   },
   "outputs": [],
   "source": [
    "for init_values in range(4):\n",
    "    qr, cr, qc = new_circuit(2, 2)\n",
    "    uno_superposition(qc, qr[1], qr[0], init_values)\n",
    "    qc.measure(qr, cr)\n",
    "\n",
    "    simulate(qc, show_bloch=True)\n",
    "    print(\"-\" * 100)"
   ]
  },
  {
   "cell_type": "markdown",
   "id": "cb4ebe09",
   "metadata": {},
   "source": [
    "### Two states"
   ]
  },
  {
   "cell_type": "code",
   "execution_count": null,
   "id": "d0d6fde9",
   "metadata": {
    "scrolled": false
   },
   "outputs": [],
   "source": [
    "for init_values in [[0, 1], [0, 2], [0, 3], [1, 2], [1, 3], [2, 3]]:\n",
    "    qr, cr, qc = new_circuit(2, 2)\n",
    "    duo_superposition(qc, qr[1], qr[0], *init_values)\n",
    "    qc.measure(qr, cr)\n",
    "\n",
    "    simulate(qc)\n",
    "    print(\"-\" * 100)"
   ]
  },
  {
   "cell_type": "markdown",
   "id": "0f411cce",
   "metadata": {},
   "source": [
    "### Three states"
   ]
  },
  {
   "cell_type": "code",
   "execution_count": null,
   "id": "cafdcc60",
   "metadata": {
    "scrolled": false
   },
   "outputs": [],
   "source": [
    "for init_values in [[0, 1, 2], [0, 1, 3], [0, 2, 3], [1, 2, 3]]:\n",
    "    qr, cr, qc = new_circuit(2, 2)\n",
    "    trio_superposition(qc, qr[1], qr[0], *init_values)\n",
    "    qc.measure(qr, cr)\n",
    "\n",
    "    simulate(qc)\n",
    "    print(\"-\" * 100)"
   ]
  },
  {
   "cell_type": "markdown",
   "source": [
    "### Four states"
   ],
   "metadata": {
    "collapsed": false
   }
  },
  {
   "cell_type": "code",
   "execution_count": null,
   "outputs": [],
   "source": [
    "qr, cr, qc = new_circuit(2, 2)\n",
    "full_superposition(qc, qr[1], qr[0])\n",
    "\n",
    "qc.measure(qr, cr)\n",
    "simulate(qc)"
   ],
   "metadata": {
    "collapsed": false
   }
  },
  {
   "cell_type": "markdown",
   "source": [
    "## Oracle"
   ],
   "metadata": {
    "collapsed": false
   }
  },
  {
   "cell_type": "code",
   "execution_count": null,
   "outputs": [],
   "source": [
    "def two_qubit_xor(qc: QuantumCircuit, q1, q0, w1, w0, clause):\n",
    "    \"\"\"Set clause qubit to hold bitwise XOR value of the q1q0 and w1w0 values.\"\"\"\n",
    "    qc.x(w0)\n",
    "    qc.x(w1)\n",
    "    qc.ccx(q0, q1, clause)\n",
    "    qc.ccx(q1, w0, clause)\n",
    "    qc.ccx(w1, w0, clause)\n",
    "    qc.ccx(q0, w1, clause)\n",
    "    qc.x(clause)\n",
    "\n",
    "    # interfere modifications\n",
    "    qc.x(w0)\n",
    "    qc.x(w1)"
   ],
   "metadata": {
    "collapsed": false
   }
  },
  {
   "cell_type": "code",
   "execution_count": null,
   "outputs": [],
   "source": [
    "def oracle(qc: QuantumCircuit, clause_list: [], var_qubits: QuantumRegister, clause_qubits: QuantumRegister,\n",
    "           output_qubit: Qubit):\n",
    "    pass"
   ],
   "metadata": {
    "collapsed": false
   }
  },
  {
   "cell_type": "markdown",
   "source": [
    "## Find candidates\n",
    "\n",
    "Preprocessing quantum algorithm with the candidate strategy.\n",
    "\n",
    "Only setting qubits in superposition states that are legal in the initial sudoku board."
   ],
   "metadata": {
    "collapsed": false
   }
  },
  {
   "cell_type": "code",
   "execution_count": null,
   "outputs": [],
   "source": [
    "def field_legal_candidates(grid: np.ndarray, row: int, column: int) -> []:\n",
    "    \"\"\"Return legal candidates in the given row and column of the grid.\"\"\"\n",
    "    if grid[row, column] != -1:\n",
    "        return [grid[row, column]]\n",
    "\n",
    "    candidates = []\n",
    "    grid_size = len(grid)\n",
    "\n",
    "    for value in range(grid_size):\n",
    "        if is_distinct(grid, row, column, value):\n",
    "            candidates.append(value)\n",
    "\n",
    "    return candidates\n",
    "\n",
    "\n",
    "def legal_candidates(grid: np.ndarray) -> np.ndarray:\n",
    "    \"\"\"Return grid with legal candidates.\"\"\"\n",
    "    grid_size = len(grid)\n",
    "    candidates = np.empty(shape=(grid_size, grid_size), dtype=object)\n",
    "\n",
    "    for row in range(grid_size):\n",
    "        for column in range(grid_size):\n",
    "            candidates[row, column] = field_legal_candidates(grid, row, column)\n",
    "\n",
    "    return candidates"
   ],
   "metadata": {
    "collapsed": false
   }
  },
  {
   "cell_type": "code",
   "execution_count": null,
   "outputs": [],
   "source": [
    "sudoku = np.array(\n",
    "    [[0, -1, -1, -1],\n",
    "     [-1, 2, -1, 3],\n",
    "     [-1, -1, -1, -1],\n",
    "     [-1, -1, 3, -1]]\n",
    ")\n",
    "\n",
    "candidates = legal_candidates(sudoku)\n",
    "candidates"
   ],
   "metadata": {
    "collapsed": false
   }
  },
  {
   "cell_type": "code",
   "execution_count": null,
   "outputs": [],
   "source": [],
   "metadata": {
    "collapsed": false
   }
  }
 ],
 "metadata": {
  "kernelspec": {
   "display_name": "Python 3 (ipykernel)",
   "language": "python",
   "name": "python3"
  },
  "language_info": {
   "codemirror_mode": {
    "name": "ipython",
    "version": 3
   },
   "file_extension": ".py",
   "mimetype": "text/x-python",
   "name": "python",
   "nbconvert_exporter": "python",
   "pygments_lexer": "ipython3",
   "version": "3.11.0"
  }
 },
 "nbformat": 4,
 "nbformat_minor": 5
}
