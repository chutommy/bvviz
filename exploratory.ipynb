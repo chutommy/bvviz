{
 "cells": [
  {
   "cell_type": "markdown",
   "id": "3812ea66",
   "metadata": {},
   "source": [
    "# Classical backtracking algorithm"
   ]
  },
  {
   "cell_type": "code",
   "execution_count": null,
   "id": "83fbd680",
   "metadata": {},
   "outputs": [],
   "source": [
    "from math import sqrt\n",
    "\n",
    "import numpy as np"
   ]
  },
  {
   "cell_type": "code",
   "execution_count": null,
   "id": "6e8f289b",
   "metadata": {},
   "outputs": [],
   "source": [
    "def in_row(grid, row, val):\n",
    "    grid_size = len(grid)\n",
    "    for i in range(grid_size):\n",
    "        if grid[row, i] == val:\n",
    "            return True\n",
    "    return False\n",
    "\n",
    "\n",
    "def in_column(grid, column, val):\n",
    "    grid_size = len(grid)\n",
    "    for i in range(grid_size):\n",
    "        if grid[i, column] == val:\n",
    "            return True\n",
    "    return False\n",
    "\n",
    "\n",
    "def in_box(grid, row, column, val):\n",
    "    grid_size = len(grid[0])\n",
    "    box_size = round(sqrt(grid_size))\n",
    "    row_0 = (row // box_size) * box_size\n",
    "    column_0 = (column // box_size) * box_size\n",
    "    for r in range(box_size):\n",
    "        for c in range(box_size):\n",
    "            if grid[row_0 + r, column_0 + c] == val:\n",
    "                return True\n",
    "    return False\n",
    "\n",
    "\n",
    "def is_possible(grid, row, column, val):\n",
    "    return (\n",
    "        not in_row(grid, row, val)\n",
    "        and not in_column(grid, column, val)\n",
    "        and not in_box(grid, row, column, val)\n",
    "    )\n",
    "\n",
    "\n",
    "def solve(grid, solutions=[]):\n",
    "    grid_size = len(grid[0])\n",
    "    for r in range(grid_size):\n",
    "        for c in range(grid_size):\n",
    "            if grid[r, c] == -1:\n",
    "                for val in range(grid_size):\n",
    "                    if is_possible(grid, r, c, val):\n",
    "                        grid[r, c] = val\n",
    "                        solve(grid, solutions)\n",
    "                        grid[r, c] = -1\n",
    "                return\n",
    "    solutions.append(grid.copy())"
   ]
  },
  {
   "cell_type": "code",
   "execution_count": null,
   "id": "9d5b0c6b",
   "metadata": {},
   "outputs": [],
   "source": [
    "sudoku = np.array(\n",
    "    [[-1, -1, -1, -1],\n",
    "     [-1, -1, -1, -1],\n",
    "     [-1, -1, -1, -1],\n",
    "     [-1, -1, -1, -1]]\n",
    ")\n",
    "\n",
    "solutions = []\n",
    "solve(sudoku, solutions)\n",
    "print(sudoku)\n",
    "print(f\"Number of solutions: {len(solutions)}\")\n",
    "# for i in range(len(solutions)):\n",
    "#     print(f\"Solution #{i}\")\n",
    "#     print(solutions[i], \"\\n\")"
   ]
  },
  {
   "cell_type": "markdown",
   "id": "bc2985a7",
   "metadata": {},
   "source": [
    "# Quantum algorithm"
   ]
  },
  {
   "cell_type": "code",
   "execution_count": null,
   "id": "7cbb1832",
   "metadata": {},
   "outputs": [],
   "source": [
    "# TODO"
   ]
  }
 ],
 "metadata": {
  "kernelspec": {
   "display_name": "Python 3 (ipykernel)",
   "language": "python",
   "name": "python3"
  },
  "language_info": {
   "codemirror_mode": {
    "name": "ipython",
    "version": 3
   },
   "file_extension": ".py",
   "mimetype": "text/x-python",
   "name": "python",
   "nbconvert_exporter": "python",
   "pygments_lexer": "ipython3",
   "version": "3.11.0"
  }
 },
 "nbformat": 4,
 "nbformat_minor": 5
}
