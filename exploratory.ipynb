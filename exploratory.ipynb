{
 "cells": [
  {
   "cell_type": "markdown",
   "id": "3812ea66",
   "metadata": {},
   "source": [
    "# Classical backtracking algorithm"
   ]
  },
  {
   "cell_type": "code",
   "execution_count": null,
   "id": "6e8f289b",
   "metadata": {},
   "outputs": [],
   "source": [
    "from math import sqrt\n",
    "import numpy as np\n",
    "\n",
    "\n",
    "def in_row(grid: np.ndarray, row: int, val: int) -> bool:\n",
    "    \"\"\"Check whether val is in the row of the grid.\"\"\"\n",
    "    grid_size = len(grid)\n",
    "    for i in range(grid_size):\n",
    "        if grid[row, i] == val:\n",
    "            return True\n",
    "    return False\n",
    "\n",
    "\n",
    "def in_column(grid: np.ndarray, column: int, val: int) -> bool:\n",
    "    \"\"\"Check whether val is in the column of the grid.\"\"\"\n",
    "    grid_size = len(grid)\n",
    "    for i in range(grid_size):\n",
    "        if grid[i, column] == val:\n",
    "            return True\n",
    "    return False\n",
    "\n",
    "\n",
    "def in_box(grid: np.ndarray, row: int, column: int, val: int) -> bool:\n",
    "    \"\"\"Check whether val is in the inner box of the grid.\"\"\"\n",
    "    grid_size = len(grid)\n",
    "    box_size = round(sqrt(grid_size))\n",
    "\n",
    "    # Calculate the upper-left corner of the inner box\n",
    "    row_0 = (row // box_size) * box_size\n",
    "    column_0 = (column // box_size) * box_size\n",
    "\n",
    "    for r in range(box_size):\n",
    "        for c in range(box_size):\n",
    "            if grid[row_0 + r, column_0 + c] == val:\n",
    "                return True\n",
    "    return False\n",
    "\n",
    "\n",
    "def is_distinct(grid: np.ndarray, row: int, column: int, val: int) -> bool:\n",
    "    \"\"\"Verify if the val in the given row/column is distinct.\"\"\"\n",
    "    return (\n",
    "            not in_row(grid, row, val)\n",
    "            and not in_column(grid, column, val)\n",
    "            and not in_box(grid, row, column, val)\n",
    "    )\n",
    "\n",
    "\n",
    "def solve_sudoku_backtracking(grid: np.ndarray, solutions=None):\n",
    "    \"\"\"Fill solutions with grids that satisfy Sudoku rules.\"\"\"\n",
    "    if solutions is None:\n",
    "        solutions = []\n",
    "    grid_size = len(grid[0])\n",
    "    for r in range(grid_size):\n",
    "        for c in range(grid_size):\n",
    "            if grid[r, c] == -1:\n",
    "                for val in range(grid_size):\n",
    "                    if is_distinct(grid, r, c, val):\n",
    "                        grid[r, c] = val\n",
    "                        solve_sudoku_backtracking(grid, solutions)\n",
    "                        grid[r, c] = -1\n",
    "                return\n",
    "    solutions.append(grid.copy())"
   ]
  },
  {
   "cell_type": "code",
   "execution_count": null,
   "id": "9d5b0c6b",
   "metadata": {},
   "outputs": [],
   "source": [
    "sudoku = np.array(\n",
    "    [[-1, -1, -1, -1],\n",
    "     [-1, -1, -1, -1],\n",
    "     [-1, -1, -1, -1],\n",
    "     [-1, -1, -1, -1]]\n",
    ")\n",
    "\n",
    "my_solutions = []\n",
    "solve_sudoku_backtracking(sudoku, my_solutions)\n",
    "print(sudoku)\n",
    "print(f\"Number of solutions: {len(my_solutions)}\")\n",
    "# for i in range(len(my_solutions)):\n",
    "#     print(f\"Solution #{i}\")\n",
    "#     print(my_solutions[i], \"\\n\")"
   ]
  },
  {
   "cell_type": "markdown",
   "id": "bc2985a7",
   "metadata": {},
   "source": [
    "# Quantum algorithm"
   ]
  },
  {
   "cell_type": "code",
   "execution_count": null,
   "id": "7cbb1832",
   "metadata": {},
   "outputs": [],
   "source": [
    "# TODO"
   ]
  },
  {
   "cell_type": "code",
   "execution_count": null,
   "outputs": [],
   "source": [],
   "metadata": {
    "collapsed": false
   }
  }
 ],
 "metadata": {
  "kernelspec": {
   "display_name": "Python 3 (ipykernel)",
   "language": "python",
   "name": "python3"
  },
  "language_info": {
   "codemirror_mode": {
    "name": "ipython",
    "version": 3
   },
   "file_extension": ".py",
   "mimetype": "text/x-python",
   "name": "python",
   "nbconvert_exporter": "python",
   "pygments_lexer": "ipython3",
   "version": "3.11.0"
  }
 },
 "nbformat": 4,
 "nbformat_minor": 5
}
